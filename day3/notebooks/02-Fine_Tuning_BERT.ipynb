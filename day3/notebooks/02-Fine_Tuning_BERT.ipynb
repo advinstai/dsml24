{
 "cells": [
  {
   "cell_type": "markdown",
   "metadata": {
    "id": "a-_Y1SVFRqpD"
   },
   "source": [
    "# Fine-tuning BERT\n",
    "\n",
    "In this example, we will fine-tune BERTimbau (the main BERT model trained in Portuguese) for the Natural Language Inference (NLI) task. In this particular task, we are presented with a pair of texts: a premise and a hypothesis. The objective is to determine whether the hypothesis is a logical consequence (entailment) of the premise. To fine-tune the model, we will utilize ASSIN2, a prominent NLI dataset in Portuguese. It comprises a few thousand examples annotated into two classes: ENTAILMENT and NONE.\n",
    "\n"
   ]
  },
  {
   "cell_type": "markdown",
   "metadata": {
    "id": "CJrsTTLvTVVP"
   },
   "source": [
    "## We install the packages"
   ]
  },
  {
   "cell_type": "code",
   "execution_count": 1,
   "metadata": {
    "colab": {
     "base_uri": "https://localhost:8080/"
    },
    "id": "E1Q7SkrlO9uZ",
    "outputId": "2944f5df-319e-422a-9330-3bdc81bb957c"
   },
   "outputs": [],
   "source": [
    "#%pip install transformers[torch] datasets evaluate scikit-learn"
   ]
  },
  {
   "cell_type": "markdown",
   "metadata": {
    "id": "N7Ix7Qw6TY1e"
   },
   "source": [
    "## We load the ASSIN2 dataset from the Hugging Face Hub"
   ]
  },
  {
   "cell_type": "code",
   "execution_count": 2,
   "metadata": {
    "id": "Wj9D3Q2lQTPc"
   },
   "outputs": [],
   "source": [
    "from datasets import load_dataset\n",
    "dataset=load_dataset(\"assin2\")"
   ]
  },
  {
   "cell_type": "code",
   "execution_count": 3,
   "metadata": {
    "id": "33bRAxL4Qoya"
   },
   "outputs": [],
   "source": [
    "dataset=dataset.rename_columns({'entailment_judgment':'label'})"
   ]
  },
  {
   "cell_type": "markdown",
   "metadata": {
    "id": "hTQig-6zTenH"
   },
   "source": [
    "## We tokenize the texts"
   ]
  },
  {
   "cell_type": "code",
   "execution_count": 4,
   "metadata": {
    "colab": {
     "base_uri": "https://localhost:8080/",
     "height": 49,
     "referenced_widgets": [
      "675299aef09b42c782b43b59d343b8c8",
      "736165bbf4e140c7bb0c1df2c2ae031b",
      "2f854bc1e9234656831d6370ff6d50fc",
      "ef9e452250d94b3c89edae8a4d2dd8ac",
      "592ed6c9c357427db14a3a0aedd13488",
      "de5e6e44cfc64d84a44afca47e738848",
      "ea83e59f32644d7182c40b4077b07ff6",
      "9a158a30ed4c40b197c07e53539ac8cf",
      "381d3427a4d2418c882648da095249c8",
      "faa8ad7d18e74fb7b7843a39ed59da93",
      "0f2d5e2fddb64c7296b6c2913a907f27"
     ]
    },
    "id": "AUKz2zJMQsp3",
    "outputId": "70992055-63d7-4730-f123-01d9334e9e30"
   },
   "outputs": [],
   "source": [
    "from transformers import AutoTokenizer\n",
    "tokenizer = AutoTokenizer.from_pretrained(\"neuralmind/bert-base-portuguese-cased\",\n",
    "                                          model_max_length=512)\n",
    "\n",
    "def tokenize_function(examples):\n",
    "  return tokenizer([z for z in zip(examples[\"premise\"], examples[\"hypothesis\"])],\n",
    "                   truncation=True)\n",
    "\n",
    "tokenized_datasets = dataset.map(tokenize_function, batched=True)"
   ]
  },
  {
   "cell_type": "markdown",
   "metadata": {
    "id": "_OHQLBlCTm0x"
   },
   "source": [
    "## We instantiate the Data Collector"
   ]
  },
  {
   "cell_type": "code",
   "execution_count": 5,
   "metadata": {
    "id": "RRdc9sqAQ19l"
   },
   "outputs": [],
   "source": [
    "from transformers import DataCollatorWithPadding\n",
    "data_collator = DataCollatorWithPadding(tokenizer=tokenizer)"
   ]
  },
  {
   "cell_type": "markdown",
   "metadata": {
    "id": "hi8MVggGUGLk"
   },
   "source": [
    "## In this example, we will employ a smaller sample of the dataset to reduce training time."
   ]
  },
  {
   "cell_type": "code",
   "execution_count": 6,
   "metadata": {
    "id": "mEPQlIasQ4Q8"
   },
   "outputs": [
    {
     "name": "stdout",
     "output_type": "stream",
     "text": [
      "{'sentence_pair_id': 398, 'premise': 'A mulher está dançando', 'hypothesis': 'A senhora está dançando', 'relatedness_score': 5.0, 'label': 1, 'input_ids': [101, 177, 2606, 698, 5691, 214, 102, 177, 17704, 698, 5691, 214, 102], 'token_type_ids': [0, 0, 0, 0, 0, 0, 0, 1, 1, 1, 1, 1, 1], 'attention_mask': [1, 1, 1, 1, 1, 1, 1, 1, 1, 1, 1, 1, 1]}\n"
     ]
    }
   ],
   "source": [
    "train_dataset = tokenized_datasets[\"train\"].shuffle(seed=42).select(range(1000))\n",
    "eval_dataset = tokenized_datasets[\"validation\"].shuffle(seed=42)\n",
    "print(eval_dataset[46])"
   ]
  },
  {
   "cell_type": "markdown",
   "metadata": {
    "id": "QLHN_58eUVPa"
   },
   "source": [
    "We instantiate the Pre-trained BERTimbau model"
   ]
  },
  {
   "cell_type": "code",
   "execution_count": 7,
   "metadata": {
    "colab": {
     "base_uri": "https://localhost:8080/"
    },
    "id": "XROfawmzQ8Ml",
    "outputId": "429850c0-c712-4520-d083-b018e72ddbab"
   },
   "outputs": [
    {
     "name": "stderr",
     "output_type": "stream",
     "text": [
      "Some weights of BertForSequenceClassification were not initialized from the model checkpoint at neuralmind/bert-base-portuguese-cased and are newly initialized: ['classifier.bias', 'classifier.weight']\n",
      "You should probably TRAIN this model on a down-stream task to be able to use it for predictions and inference.\n"
     ]
    }
   ],
   "source": [
    "from transformers import AutoModelForSequenceClassification, AutoConfig\n",
    "label2id = {'NONE': 0, 'ENTAILMENT':1}\n",
    "id2label = {0: 'NONE', 1: 'ENTAILMENT'}\n",
    "config= AutoConfig.from_pretrained(\"neuralmind/bert-base-portuguese-cased\",\n",
    "                                   label2id=label2id, id2label=id2label,\n",
    "                                   num_labels=2, seed=1)\n",
    "model = AutoModelForSequenceClassification.from_pretrained(\"neuralmind/bert-base-portuguese-cased\",\n",
    "                                                           config=config)"
   ]
  },
  {
   "cell_type": "markdown",
   "metadata": {
    "id": "ilqk7KDfUYiG"
   },
   "source": [
    "## We instantiate the Trainer and set up the evaluation metrics."
   ]
  },
  {
   "cell_type": "code",
   "execution_count": 8,
   "metadata": {
    "id": "G9vPZprbRA1F"
   },
   "outputs": [],
   "source": [
    "from transformers import TrainingArguments\n",
    "training_args = TrainingArguments(output_dir=\"test_trainer\", num_train_epochs=3.0,\n",
    "                                  eval_strategy='epoch', save_strategy='epoch')"
   ]
  },
  {
   "cell_type": "code",
   "execution_count": 9,
   "metadata": {
    "colab": {
     "base_uri": "https://localhost:8080/"
    },
    "id": "FKPPoufZREks",
    "outputId": "3ad89813-0e28-4673-8ac4-97b7be24df7b"
   },
   "outputs": [],
   "source": [
    "import numpy as np\n",
    "#from datasets import load_metric\n",
    "import evaluate\n",
    "metric = evaluate.load(\"accuracy\")"
   ]
  },
  {
   "cell_type": "code",
   "execution_count": 10,
   "metadata": {
    "id": "-aFuciiWRHR7"
   },
   "outputs": [],
   "source": [
    "def compute_metrics(eval_pred):\n",
    "    logits, labels = eval_pred\n",
    "    predictions = np.argmax(logits, axis=-1)\n",
    "    return metric.compute(predictions=predictions, references=labels)"
   ]
  },
  {
   "cell_type": "code",
   "execution_count": 11,
   "metadata": {
    "id": "dXIp7shMRKFW"
   },
   "outputs": [],
   "source": [
    "from transformers import Trainer\n",
    "trainer = Trainer(\n",
    "    model=model,\n",
    "    args=training_args,\n",
    "    train_dataset=train_dataset,\n",
    "    eval_dataset=eval_dataset,\n",
    "    compute_metrics=compute_metrics,\n",
    "    data_collator=data_collator\n",
    ")"
   ]
  },
  {
   "cell_type": "markdown",
   "metadata": {
    "id": "p_8xzi8mVOEP"
   },
   "source": [
    "## We train the model"
   ]
  },
  {
   "cell_type": "code",
   "execution_count": null,
   "metadata": {
    "colab": {
     "base_uri": "https://localhost:8080/",
     "height": 246
    },
    "id": "xFiL2IUERMiN",
    "outputId": "a3e7cf98-4e64-44e9-9224-931a0de20e1e"
   },
   "outputs": [],
   "source": [
    "trained=trainer.train()"
   ]
  },
  {
   "cell_type": "markdown",
   "metadata": {
    "id": "SynaqoT4VRUb"
   },
   "source": [
    "## We save the model"
   ]
  },
  {
   "cell_type": "code",
   "execution_count": null,
   "metadata": {
    "id": "uar8O3wVRPZ_"
   },
   "outputs": [],
   "source": [
    "trainer.save_model(\"Bertinho\")"
   ]
  },
  {
   "cell_type": "markdown",
   "metadata": {
    "id": "DGu62rZkVVhK"
   },
   "source": [
    "## We load and use the model"
   ]
  },
  {
   "cell_type": "code",
   "execution_count": null,
   "metadata": {
    "id": "0Sg0wr01RRZD"
   },
   "outputs": [],
   "source": [
    "bertinho = AutoModelForSequenceClassification.from_pretrained('Bertinho')"
   ]
  },
  {
   "cell_type": "code",
   "execution_count": null,
   "metadata": {
    "colab": {
     "base_uri": "https://localhost:8080/"
    },
    "id": "z-lC060XRXHh",
    "outputId": "cb64e793-cceb-42a6-cd53-f11b7dcb60b2"
   },
   "outputs": [],
   "source": [
    "from transformers import pipeline\n",
    "classifier = pipeline(task='text-classification', model=bertinho, tokenizer = tokenizer)\n",
    "lista=    {\"text\": \"My tex\", \"text_pair\": \"My pair\"}   #[[\"sim\", \"não\"], [\"A mulher está dançando\", \"asda asdfa qqqw khgert\"]]\n",
    "classifier(lista)"
   ]
  },
  {
   "cell_type": "code",
   "execution_count": null,
   "metadata": {},
   "outputs": [],
   "source": []
  }
 ],
 "metadata": {
  "colab": {
   "provenance": []
  },
  "kernelspec": {
   "display_name": "Python 3 (ipykernel)",
   "language": "python",
   "name": "python3"
  },
  "language_info": {
   "codemirror_mode": {
    "name": "ipython",
    "version": 3
   },
   "file_extension": ".py",
   "mimetype": "text/x-python",
   "name": "python",
   "nbconvert_exporter": "python",
   "pygments_lexer": "ipython3",
   "version": "3.12.3"
  },
  "widgets": {
   "application/vnd.jupyter.widget-state+json": {
    "0f2d5e2fddb64c7296b6c2913a907f27": {
     "model_module": "@jupyter-widgets/controls",
     "model_module_version": "1.5.0",
     "model_name": "DescriptionStyleModel",
     "state": {
      "_model_module": "@jupyter-widgets/controls",
      "_model_module_version": "1.5.0",
      "_model_name": "DescriptionStyleModel",
      "_view_count": null,
      "_view_module": "@jupyter-widgets/base",
      "_view_module_version": "1.2.0",
      "_view_name": "StyleView",
      "description_width": ""
     }
    },
    "2f854bc1e9234656831d6370ff6d50fc": {
     "model_module": "@jupyter-widgets/controls",
     "model_module_version": "1.5.0",
     "model_name": "FloatProgressModel",
     "state": {
      "_dom_classes": [],
      "_model_module": "@jupyter-widgets/controls",
      "_model_module_version": "1.5.0",
      "_model_name": "FloatProgressModel",
      "_view_count": null,
      "_view_module": "@jupyter-widgets/controls",
      "_view_module_version": "1.5.0",
      "_view_name": "ProgressView",
      "bar_style": "success",
      "description": "",
      "description_tooltip": null,
      "layout": "IPY_MODEL_9a158a30ed4c40b197c07e53539ac8cf",
      "max": 2448,
      "min": 0,
      "orientation": "horizontal",
      "style": "IPY_MODEL_381d3427a4d2418c882648da095249c8",
      "value": 2448
     }
    },
    "381d3427a4d2418c882648da095249c8": {
     "model_module": "@jupyter-widgets/controls",
     "model_module_version": "1.5.0",
     "model_name": "ProgressStyleModel",
     "state": {
      "_model_module": "@jupyter-widgets/controls",
      "_model_module_version": "1.5.0",
      "_model_name": "ProgressStyleModel",
      "_view_count": null,
      "_view_module": "@jupyter-widgets/base",
      "_view_module_version": "1.2.0",
      "_view_name": "StyleView",
      "bar_color": null,
      "description_width": ""
     }
    },
    "592ed6c9c357427db14a3a0aedd13488": {
     "model_module": "@jupyter-widgets/base",
     "model_module_version": "1.2.0",
     "model_name": "LayoutModel",
     "state": {
      "_model_module": "@jupyter-widgets/base",
      "_model_module_version": "1.2.0",
      "_model_name": "LayoutModel",
      "_view_count": null,
      "_view_module": "@jupyter-widgets/base",
      "_view_module_version": "1.2.0",
      "_view_name": "LayoutView",
      "align_content": null,
      "align_items": null,
      "align_self": null,
      "border": null,
      "bottom": null,
      "display": null,
      "flex": null,
      "flex_flow": null,
      "grid_area": null,
      "grid_auto_columns": null,
      "grid_auto_flow": null,
      "grid_auto_rows": null,
      "grid_column": null,
      "grid_gap": null,
      "grid_row": null,
      "grid_template_areas": null,
      "grid_template_columns": null,
      "grid_template_rows": null,
      "height": null,
      "justify_content": null,
      "justify_items": null,
      "left": null,
      "margin": null,
      "max_height": null,
      "max_width": null,
      "min_height": null,
      "min_width": null,
      "object_fit": null,
      "object_position": null,
      "order": null,
      "overflow": null,
      "overflow_x": null,
      "overflow_y": null,
      "padding": null,
      "right": null,
      "top": null,
      "visibility": null,
      "width": null
     }
    },
    "675299aef09b42c782b43b59d343b8c8": {
     "model_module": "@jupyter-widgets/controls",
     "model_module_version": "1.5.0",
     "model_name": "HBoxModel",
     "state": {
      "_dom_classes": [],
      "_model_module": "@jupyter-widgets/controls",
      "_model_module_version": "1.5.0",
      "_model_name": "HBoxModel",
      "_view_count": null,
      "_view_module": "@jupyter-widgets/controls",
      "_view_module_version": "1.5.0",
      "_view_name": "HBoxView",
      "box_style": "",
      "children": [
       "IPY_MODEL_736165bbf4e140c7bb0c1df2c2ae031b",
       "IPY_MODEL_2f854bc1e9234656831d6370ff6d50fc",
       "IPY_MODEL_ef9e452250d94b3c89edae8a4d2dd8ac"
      ],
      "layout": "IPY_MODEL_592ed6c9c357427db14a3a0aedd13488"
     }
    },
    "736165bbf4e140c7bb0c1df2c2ae031b": {
     "model_module": "@jupyter-widgets/controls",
     "model_module_version": "1.5.0",
     "model_name": "HTMLModel",
     "state": {
      "_dom_classes": [],
      "_model_module": "@jupyter-widgets/controls",
      "_model_module_version": "1.5.0",
      "_model_name": "HTMLModel",
      "_view_count": null,
      "_view_module": "@jupyter-widgets/controls",
      "_view_module_version": "1.5.0",
      "_view_name": "HTMLView",
      "description": "",
      "description_tooltip": null,
      "layout": "IPY_MODEL_de5e6e44cfc64d84a44afca47e738848",
      "placeholder": "​",
      "style": "IPY_MODEL_ea83e59f32644d7182c40b4077b07ff6",
      "value": "Map: 100%"
     }
    },
    "9a158a30ed4c40b197c07e53539ac8cf": {
     "model_module": "@jupyter-widgets/base",
     "model_module_version": "1.2.0",
     "model_name": "LayoutModel",
     "state": {
      "_model_module": "@jupyter-widgets/base",
      "_model_module_version": "1.2.0",
      "_model_name": "LayoutModel",
      "_view_count": null,
      "_view_module": "@jupyter-widgets/base",
      "_view_module_version": "1.2.0",
      "_view_name": "LayoutView",
      "align_content": null,
      "align_items": null,
      "align_self": null,
      "border": null,
      "bottom": null,
      "display": null,
      "flex": null,
      "flex_flow": null,
      "grid_area": null,
      "grid_auto_columns": null,
      "grid_auto_flow": null,
      "grid_auto_rows": null,
      "grid_column": null,
      "grid_gap": null,
      "grid_row": null,
      "grid_template_areas": null,
      "grid_template_columns": null,
      "grid_template_rows": null,
      "height": null,
      "justify_content": null,
      "justify_items": null,
      "left": null,
      "margin": null,
      "max_height": null,
      "max_width": null,
      "min_height": null,
      "min_width": null,
      "object_fit": null,
      "object_position": null,
      "order": null,
      "overflow": null,
      "overflow_x": null,
      "overflow_y": null,
      "padding": null,
      "right": null,
      "top": null,
      "visibility": null,
      "width": null
     }
    },
    "de5e6e44cfc64d84a44afca47e738848": {
     "model_module": "@jupyter-widgets/base",
     "model_module_version": "1.2.0",
     "model_name": "LayoutModel",
     "state": {
      "_model_module": "@jupyter-widgets/base",
      "_model_module_version": "1.2.0",
      "_model_name": "LayoutModel",
      "_view_count": null,
      "_view_module": "@jupyter-widgets/base",
      "_view_module_version": "1.2.0",
      "_view_name": "LayoutView",
      "align_content": null,
      "align_items": null,
      "align_self": null,
      "border": null,
      "bottom": null,
      "display": null,
      "flex": null,
      "flex_flow": null,
      "grid_area": null,
      "grid_auto_columns": null,
      "grid_auto_flow": null,
      "grid_auto_rows": null,
      "grid_column": null,
      "grid_gap": null,
      "grid_row": null,
      "grid_template_areas": null,
      "grid_template_columns": null,
      "grid_template_rows": null,
      "height": null,
      "justify_content": null,
      "justify_items": null,
      "left": null,
      "margin": null,
      "max_height": null,
      "max_width": null,
      "min_height": null,
      "min_width": null,
      "object_fit": null,
      "object_position": null,
      "order": null,
      "overflow": null,
      "overflow_x": null,
      "overflow_y": null,
      "padding": null,
      "right": null,
      "top": null,
      "visibility": null,
      "width": null
     }
    },
    "ea83e59f32644d7182c40b4077b07ff6": {
     "model_module": "@jupyter-widgets/controls",
     "model_module_version": "1.5.0",
     "model_name": "DescriptionStyleModel",
     "state": {
      "_model_module": "@jupyter-widgets/controls",
      "_model_module_version": "1.5.0",
      "_model_name": "DescriptionStyleModel",
      "_view_count": null,
      "_view_module": "@jupyter-widgets/base",
      "_view_module_version": "1.2.0",
      "_view_name": "StyleView",
      "description_width": ""
     }
    },
    "ef9e452250d94b3c89edae8a4d2dd8ac": {
     "model_module": "@jupyter-widgets/controls",
     "model_module_version": "1.5.0",
     "model_name": "HTMLModel",
     "state": {
      "_dom_classes": [],
      "_model_module": "@jupyter-widgets/controls",
      "_model_module_version": "1.5.0",
      "_model_name": "HTMLModel",
      "_view_count": null,
      "_view_module": "@jupyter-widgets/controls",
      "_view_module_version": "1.5.0",
      "_view_name": "HTMLView",
      "description": "",
      "description_tooltip": null,
      "layout": "IPY_MODEL_faa8ad7d18e74fb7b7843a39ed59da93",
      "placeholder": "​",
      "style": "IPY_MODEL_0f2d5e2fddb64c7296b6c2913a907f27",
      "value": " 2448/2448 [00:01&lt;00:00, 2186.19 examples/s]"
     }
    },
    "faa8ad7d18e74fb7b7843a39ed59da93": {
     "model_module": "@jupyter-widgets/base",
     "model_module_version": "1.2.0",
     "model_name": "LayoutModel",
     "state": {
      "_model_module": "@jupyter-widgets/base",
      "_model_module_version": "1.2.0",
      "_model_name": "LayoutModel",
      "_view_count": null,
      "_view_module": "@jupyter-widgets/base",
      "_view_module_version": "1.2.0",
      "_view_name": "LayoutView",
      "align_content": null,
      "align_items": null,
      "align_self": null,
      "border": null,
      "bottom": null,
      "display": null,
      "flex": null,
      "flex_flow": null,
      "grid_area": null,
      "grid_auto_columns": null,
      "grid_auto_flow": null,
      "grid_auto_rows": null,
      "grid_column": null,
      "grid_gap": null,
      "grid_row": null,
      "grid_template_areas": null,
      "grid_template_columns": null,
      "grid_template_rows": null,
      "height": null,
      "justify_content": null,
      "justify_items": null,
      "left": null,
      "margin": null,
      "max_height": null,
      "max_width": null,
      "min_height": null,
      "min_width": null,
      "object_fit": null,
      "object_position": null,
      "order": null,
      "overflow": null,
      "overflow_x": null,
      "overflow_y": null,
      "padding": null,
      "right": null,
      "top": null,
      "visibility": null,
      "width": null
     }
    }
   }
  }
 },
 "nbformat": 4,
 "nbformat_minor": 4
}
